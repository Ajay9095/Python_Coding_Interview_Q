{
 "cells": [
  {
   "cell_type": "markdown",
   "id": "a65b30e4",
   "metadata": {},
   "source": [
    "# Day - 1       18 coding\n"
   ]
  },
  {
   "cell_type": "code",
   "execution_count": 4,
   "id": "7c61d07e",
   "metadata": {},
   "outputs": [
    {
     "name": "stdout",
     "output_type": "stream",
     "text": [
      "Hello World\n"
     ]
    }
   ],
   "source": [
    "class Person:\n",
    "    \n",
    "    def __init__(self):\n",
    "        print(\"Hello World\")\n",
    "        \n",
    "x = Person()"
   ]
  },
  {
   "cell_type": "code",
   "execution_count": 14,
   "id": "7c940eee",
   "metadata": {},
   "outputs": [
    {
     "name": "stdout",
     "output_type": "stream",
     "text": [
      "Ajay\n",
      "24\n",
      "180\n",
      "Name: Ajay, Age: 24, Height: 180\n"
     ]
    }
   ],
   "source": [
    "class Person:\n",
    "    \n",
    "    def __init__(self, name, age, height):\n",
    "        self.name = name\n",
    "        self.age = age\n",
    "        self.height = height\n",
    "        \n",
    "    def __str__(self):\n",
    "        return \"Name: {}, Age: {}, Height: {}\".format(self.name, self.age, self.height)\n",
    "        \n",
    "person1 = Person(\"Ajay\", 24, 180)\n",
    "print(person1.name)\n",
    "print(person1.age)\n",
    "print(person1.height)\n",
    "\n",
    "print(person1)"
   ]
  },
  {
   "cell_type": "code",
   "execution_count": 35,
   "id": "0e5cca15",
   "metadata": {},
   "outputs": [
    {
     "name": "stdout",
     "output_type": "stream",
     "text": [
      "Name : Ajay \n",
      "Age : 24 \n",
      "Height : 180\n",
      "salary : 25000\n"
     ]
    }
   ],
   "source": [
    "class Person:\n",
    "    \n",
    "    def __init__(self, name, age, height):\n",
    "        self.name = name\n",
    "        self.age = age\n",
    "        self.height = height\n",
    "        \n",
    "    def __str__(self):\n",
    "        return \"Name : {} \\nAge : {} \\nHeight : {}\".format(self.name, self.age, self.height)\n",
    "    \n",
    "class worker(Person):\n",
    "    \n",
    "    def __init__(self, name, age, height, salary):\n",
    "        super(worker, self).__init__(name, age, height)\n",
    "        self.salary = salary\n",
    "        \n",
    "    def __str__(self):\n",
    "        text = super(worker, self).__str__()\n",
    "        text += \"\\nsalary : {}\".format(self.salary)\n",
    "        return text\n",
    "        \n",
    "    def cal_yearly_salary(self):\n",
    "        return self.salary * 12\n",
    "        \n",
    "worker1 = worker(\"Ajay\", 24, 180, 25000)\n",
    "print(worker1)"
   ]
  },
  {
   "cell_type": "code",
   "execution_count": 50,
   "id": "522b9e26",
   "metadata": {},
   "outputs": [
    {
     "name": "stdout",
     "output_type": "stream",
     "text": [
      "X: 2, Y: 11\n",
      "X: 6, Y: 20\n",
      "X: -4, Y: -9\n"
     ]
    }
   ],
   "source": [
    "class Vector:\n",
    "    \n",
    "    def __init__(self, X, Y):\n",
    "        self.X = X\n",
    "        self.Y = Y\n",
    "        \n",
    "    def __add__(self, other):\n",
    "        return Vector(self.X + other.X, self.Y + other.Y)\n",
    "    \n",
    "    def __sub__(self, other):\n",
    "        return Vector(self.X - other.X, self.Y - other.Y)\n",
    "    \n",
    "    def __str__(self):\n",
    "        return \"X: {}, Y: {}\".format(self.X, self.Y)\n",
    "    \n",
    "v1 = Vector(2, 11)\n",
    "v2 = Vector(6, 20)\n",
    "\n",
    "print(v1)\n",
    "print(v2)\n",
    "\n",
    "v3 = v1 - v2\n",
    "\n",
    "print(v3)\n",
    "        "
   ]
  },
  {
   "cell_type": "code",
   "execution_count": 62,
   "id": "4023896a",
   "metadata": {},
   "outputs": [
    {
     "name": "stdout",
     "output_type": "stream",
     "text": [
      "Ajay\n",
      "Ajay\n",
      "Ajay\n",
      "Ajay\n",
      "Ajay\n",
      "Ajay\n",
      "Ajay\n",
      "Ajay\n",
      "Ajay\n",
      "Ajay\n",
      "Kumar\n",
      "Kumar\n",
      "Kumar\n",
      "Kumar\n",
      "Kumar\n",
      "Kumar\n",
      "Kumar\n",
      "Kumar\n",
      "Kumar\n",
      "Kumar\n"
     ]
    }
   ],
   "source": [
    "import threading\n",
    "\n",
    "def function1():\n",
    "    for x in range(10):\n",
    "        print('Ajay')\n",
    "\n",
    "def function2():\n",
    "    for x in range(10):\n",
    "        print(\"Kumar\")\n",
    "        \n",
    "t1 = threading.Thread(target=function1)\n",
    "t2 = threading.Thread(target=function2)\n",
    "\n",
    "t1.start()\n",
    "t2.start()"
   ]
  },
  {
   "cell_type": "code",
   "execution_count": 67,
   "id": "d2b9a4a8",
   "metadata": {},
   "outputs": [
    {
     "name": "stdout",
     "output_type": "stream",
     "text": [
      "Burra Ajay Kumar\n",
      "Burra Ajay Kumar\n",
      "Burra Ajay Kumar\n",
      "Burra Ajay Kumar\n",
      "Burra Ajay Kumar\n",
      "Burra Ajay Kumar\n",
      "Burra Ajay Kumar\n",
      "Burra Ajay Kumar\n",
      "Burra Ajay Kumar\n",
      "Burra Ajay Kumar\n",
      "None\n",
      "____END___\n"
     ]
    }
   ],
   "source": [
    "def hello():\n",
    "    for x in range(10):\n",
    "        print(\"Burra Ajay Kumar\")\n",
    "        \n",
    "hello = hello()\n",
    "print(hello)\n",
    "print(\"____END___\")"
   ]
  },
  {
   "cell_type": "code",
   "execution_count": 76,
   "id": "bb820493",
   "metadata": {},
   "outputs": [
    {
     "name": "stdout",
     "output_type": "stream",
     "text": [
      "4\n",
      "8\n",
      "16\n",
      "32\n",
      "64\n",
      "128\n",
      "256\n",
      "512\n",
      "1024\n",
      "2048\n",
      "4096\n",
      "8192\n",
      "16384\n",
      "Reached the maximum\n",
      "8192.0\n",
      "4096.0\n",
      "2048.0\n",
      "1024.0\n",
      "512.0\n",
      "256.0\n",
      "128.0\n",
      "64.0\n",
      "32.0\n",
      "16.0\n",
      "8.0\n",
      "4.0\n",
      "2.0\n",
      "1.0\n",
      "None\n",
      "None\n"
     ]
    }
   ],
   "source": [
    "import threading\n",
    "import time\n",
    "\n",
    "x = 2\n",
    "\n",
    "def double():\n",
    "    global x\n",
    "    while x < 16384:\n",
    "        x *= 2\n",
    "        print(x)\n",
    "    print(\"Reached the maximum\")\n",
    "    \n",
    "def halve():\n",
    "    global x\n",
    "    while x > 1:\n",
    "        x /= 2\n",
    "        print(x)\n",
    "    \n",
    "double = double()\n",
    "halve = halve()\n",
    "print(double)\n",
    "print(halve)"
   ]
  },
  {
   "cell_type": "code",
   "execution_count": 27,
   "id": "b6dc4eb6",
   "metadata": {},
   "outputs": [
    {
     "name": "stdout",
     "output_type": "stream",
     "text": [
      "madam: True\n"
     ]
    }
   ],
   "source": [
    "def is_palindrome(s):\n",
    "    s = s.lower()\n",
    "    return s == s[::-1]\n",
    "\n",
    "strings = [\"madam\"]\n",
    "\n",
    "for string in strings:\n",
    "    print(f\"{string}: {is_palindrome(string)}\")"
   ]
  },
  {
   "cell_type": "code",
   "execution_count": 43,
   "id": "6a854ddf",
   "metadata": {},
   "outputs": [
    {
     "name": "stdout",
     "output_type": "stream",
     "text": [
      "7\n",
      "5040\n"
     ]
    }
   ],
   "source": [
    "def factorial(n):\n",
    "    if n < 1:\n",
    "        return 1\n",
    "    else:\n",
    "        number = n * factorial(n-1)\n",
    "        return number\n",
    "n = int(input())\n",
    "print(factorial(n))"
   ]
  },
  {
   "cell_type": "code",
   "execution_count": 47,
   "id": "de5844db",
   "metadata": {},
   "outputs": [
    {
     "name": "stdout",
     "output_type": "stream",
     "text": [
      "madam\n",
      "True\n"
     ]
    }
   ],
   "source": [
    "def pal(s):\n",
    "    s = s.lower()\n",
    "    return s == s[::-1]\n",
    "\n",
    "n = str(input())\n",
    "\n",
    "print(pal(n))\n",
    "    "
   ]
  },
  {
   "cell_type": "code",
   "execution_count": null,
   "id": "5b744ea5",
   "metadata": {},
   "outputs": [],
   "source": [
    "def fibonacci(n):\n",
    "    if n <= 1:\n",
    "        return n\n",
    "    else:\n",
    "        fib = fibonacci(n-1) + fibonacci(n-2)\n",
    "        return fib\n",
    "\n",
    "n = 3\n",
    "print(f\"the value is : {fibonacci(n)}\")\n",
    "\n",
    "for i in range(n + 1):\n",
    "    print(fibonacci(i), end = \" \")"
   ]
  },
  {
   "cell_type": "code",
   "execution_count": 157,
   "id": "cf5272e0",
   "metadata": {},
   "outputs": [
    {
     "name": "stdout",
     "output_type": "stream",
     "text": [
      "[1, 2, 3, 4, 5, 7]\n"
     ]
    }
   ],
   "source": [
    "def sort_array(arr):\n",
    "    arr.sort()\n",
    "    \n",
    "arr = [3, 4, 5, 6, 7, 1, 2]\n",
    "sort_array(arr)\n",
    "print(arr)"
   ]
  },
  {
   "cell_type": "code",
   "execution_count": 22,
   "id": "72e4ab41",
   "metadata": {},
   "outputs": [
    {
     "name": "stdout",
     "output_type": "stream",
     "text": [
      "Missing value : 5\n",
      "After updating the missing value : [0, 1, 2, 3, 4, 5, 6, 7]\n",
      "the slicing : [7, 6, 5, 4, 3, 2, 1, 0]\n"
     ]
    }
   ],
   "source": [
    "def find_missing(nums):\n",
    "    nums.sort()\n",
    "    n = len(nums)\n",
    "    total_sum = n * (n + 1) // 2\n",
    "    actual_sum = sum(nums)\n",
    "    return total_sum - actual_sum\n",
    "\n",
    "nums = [3, 4, 6, 1, 2, 0, 7]\n",
    "print(f\"Missing value : {find_missing(nums)}\")\n",
    "\n",
    "nums.append(find_missing(nums))\n",
    "find_missing(nums)\n",
    "\n",
    "print(f\"After updating the missing value : {nums}\")\n",
    "print(f\"the slicing : {nums[::-1]}\")"
   ]
  },
  {
   "cell_type": "code",
   "execution_count": 62,
   "id": "a61155a9",
   "metadata": {},
   "outputs": [
    {
     "name": "stdout",
     "output_type": "stream",
     "text": [
      "100\n"
     ]
    }
   ],
   "source": [
    "def find_max(nums):\n",
    "    max_num = nums[0]\n",
    "    for num in nums:\n",
    "        if num > max_num:\n",
    "            max_num = num\n",
    "    return max_num\n",
    "\n",
    "nums = [1, 2, 3, 4, 5,100]\n",
    "print(find_max(nums))  "
   ]
  },
  {
   "cell_type": "code",
   "execution_count": 77,
   "id": "83aa2a1d",
   "metadata": {},
   "outputs": [
    {
     "name": "stdout",
     "output_type": "stream",
     "text": [
      "15\n"
     ]
    }
   ],
   "source": [
    "def sum_of_list(nums):\n",
    "    total = 0\n",
    "    for num in nums:\n",
    "        total += num\n",
    "    return total\n",
    "\n",
    "nums = [1, 2, 3, 4, 5]\n",
    "print(sum_of_list(nums)) "
   ]
  },
  {
   "cell_type": "code",
   "execution_count": 106,
   "id": "5972775e",
   "metadata": {},
   "outputs": [
    {
     "name": "stdout",
     "output_type": "stream",
     "text": [
      "[1, 2, 3, 10]\n",
      "[1, 2, 3, 10, 4, 5, 6]\n"
     ]
    }
   ],
   "source": [
    "a = [1, 2, 3]\n",
    "b = [4, 5, 6]\n",
    "\n",
    "a.append(10)\n",
    "print(a)\n",
    "\n",
    "b = a + b\n",
    "print(b)"
   ]
  },
  {
   "cell_type": "code",
   "execution_count": 30,
   "id": "07692434",
   "metadata": {},
   "outputs": [
    {
     "name": "stdout",
     "output_type": "stream",
     "text": [
      "4 5 6 1 2 3\n"
     ]
    }
   ],
   "source": [
    "def merge(list1, list2):\n",
    "    return list1 + list2\n",
    "\n",
    "list1 = [4, 5, 6]\n",
    "list2 = [1, 2, 3]\n",
    "print(*merge(list1, list2))"
   ]
  },
  {
   "cell_type": "code",
   "execution_count": 36,
   "id": "ebc257a0",
   "metadata": {},
   "outputs": [
    {
     "name": "stdout",
     "output_type": "stream",
     "text": [
      "[1, 2, 3, 4, 5]\n"
     ]
    }
   ],
   "source": [
    "def remove_duplicates(nums):\n",
    "    return list(set(nums))\n",
    "\n",
    "nums = [1, 2, 2, 3, 4, 4, 5]\n",
    "print(remove_duplicates(nums))"
   ]
  },
  {
   "cell_type": "code",
   "execution_count": 110,
   "id": "5fdc5cea",
   "metadata": {},
   "outputs": [
    {
     "name": "stdout",
     "output_type": "stream",
     "text": [
      "True\n"
     ]
    }
   ],
   "source": [
    "a = [1, 2, 3, 4]\n",
    "print(all(a))"
   ]
  },
  {
   "cell_type": "markdown",
   "id": "9fa865dc",
   "metadata": {},
   "source": [
    "# Day-2  14 coding \n"
   ]
  },
  {
   "cell_type": "code",
   "execution_count": 32,
   "id": "510bd32b",
   "metadata": {},
   "outputs": [
    {
     "name": "stdout",
     "output_type": "stream",
     "text": [
      "2 4\n",
      "1 3\n",
      "2 4\n",
      "1 3\n"
     ]
    }
   ],
   "source": [
    "def split_digits(number):\n",
    "    digits = str(number)\n",
    "    \n",
    "    group1 = []\n",
    "    group2 = []\n",
    "    \n",
    "    for i, digit in enumerate(digits):\n",
    "        if i % 2 == 0:\n",
    "            group2.append(digit)\n",
    "        else:\n",
    "            group1.append(digit)\n",
    "    \n",
    "    return group1, group2\n",
    "            \n",
    "            \n",
    "number = 1234\n",
    "output1, output2 = split_digits(number)\n",
    "print(*output1)\n",
    "print(*output2)\n",
    "\n",
    "print(' '.join(output1))\n",
    "print(' '.join(output2))"
   ]
  },
  {
   "cell_type": "code",
   "execution_count": 60,
   "id": "e09d354c",
   "metadata": {},
   "outputs": [
    {
     "name": "stdout",
     "output_type": "stream",
     "text": [
      "2\n",
      "4\n",
      "6\n",
      "None\n"
     ]
    }
   ],
   "source": [
    "def print_even(n):\n",
    "    for i in range(1, n + 1):\n",
    "        if i % 2 == 0:\n",
    "            print(i)\n",
    "            \n",
    "n = 6\n",
    "print(print_even(n))"
   ]
  },
  {
   "cell_type": "code",
   "execution_count": 62,
   "id": "a4cc83bc",
   "metadata": {},
   "outputs": [
    {
     "name": "stdout",
     "output_type": "stream",
     "text": [
      "1\n",
      "3\n",
      "5\n",
      "7\n",
      "9\n",
      "None\n"
     ]
    }
   ],
   "source": [
    "def odd_number(n):\n",
    "    for i in range(1, n + 1):\n",
    "        if i % 2 != 0:\n",
    "            print(i)\n",
    "            \n",
    "n = 10\n",
    "print(odd_number(n))"
   ]
  },
  {
   "cell_type": "code",
   "execution_count": 72,
   "id": "84947c30",
   "metadata": {},
   "outputs": [
    {
     "name": "stdout",
     "output_type": "stream",
     "text": [
      "8\n"
     ]
    }
   ],
   "source": [
    "def sum_of_digits(n):\n",
    "    while n >= 10:\n",
    "        n = sum(int(digit) for digit in str(n))\n",
    "    return n\n",
    "\n",
    "n = 12554\n",
    "result = sum_of_digits(n)\n",
    "print(result)"
   ]
  },
  {
   "cell_type": "code",
   "execution_count": 88,
   "id": "0f268978",
   "metadata": {},
   "outputs": [
    {
     "name": "stdout",
     "output_type": "stream",
     "text": [
      "3\n"
     ]
    }
   ],
   "source": [
    "def sum_of_digits(n):\n",
    "    if n <= 10:\n",
    "        print(f\"{n} is not a sum of digits\")\n",
    "    else:\n",
    "        n = sum(int(digit) for digit in str(n))\n",
    "        return n\n",
    "        \n",
    "n = 12\n",
    "result = sum_of_digits(n)\n",
    "print(result)"
   ]
  },
  {
   "cell_type": "code",
   "execution_count": 100,
   "id": "48ebe4db",
   "metadata": {},
   "outputs": [
    {
     "name": "stdout",
     "output_type": "stream",
     "text": [
      "55\n"
     ]
    }
   ],
   "source": [
    "def sum_of_natural_numbers(n):\n",
    "    total = 0\n",
    "    for i in range(1, n + 1):\n",
    "        total += i\n",
    "    return total\n",
    "    \n",
    "n = 10\n",
    "print(sum_of_natural_numbers(n))"
   ]
  },
  {
   "cell_type": "code",
   "execution_count": 110,
   "id": "346deccf",
   "metadata": {},
   "outputs": [
    {
     "name": "stdout",
     "output_type": "stream",
     "text": [
      "2 4\n",
      "1 3\n"
     ]
    }
   ],
   "source": [
    "def even_odd(n):\n",
    "    digits = str(n)\n",
    "    \n",
    "    g1 = []\n",
    "    g2 = []\n",
    "    \n",
    "    for i, digit in enumerate(digits):\n",
    "        if i % 2 == 0:\n",
    "            g1.append(digit)\n",
    "        else:\n",
    "            g2.append(digit)\n",
    "    return g1, g2\n",
    "            \n",
    "n = 1234\n",
    "g1, g2 = even_odd(n)\n",
    "print(*g2)\n",
    "print(*g1)"
   ]
  },
  {
   "cell_type": "code",
   "execution_count": 114,
   "id": "34029643",
   "metadata": {},
   "outputs": [
    {
     "name": "stdout",
     "output_type": "stream",
     "text": [
      "10\n",
      "9\n",
      "8\n",
      "7\n",
      "6\n",
      "5\n",
      "4\n",
      "3\n",
      "2\n",
      "1\n",
      "None\n"
     ]
    }
   ],
   "source": [
    "def print_reverse_order(n):\n",
    "    for i in range(n, 0, -1):\n",
    "        print(i)\n",
    "        \n",
    "n = 10\n",
    "print(print_reverse_order(n))"
   ]
  },
  {
   "cell_type": "code",
   "execution_count": 120,
   "id": "a14634cd",
   "metadata": {},
   "outputs": [
    {
     "name": "stdout",
     "output_type": "stream",
     "text": [
      "2\n",
      "4\n",
      "6\n",
      "8\n",
      "10\n",
      "None\n"
     ]
    }
   ],
   "source": [
    "def even_numbers(n):\n",
    "    for i in range(1, n + 1):\n",
    "        if i % 2 == 0:\n",
    "            print(i)\n",
    "        \n",
    "n = 10\n",
    "print(even_numbers(n))"
   ]
  },
  {
   "cell_type": "code",
   "execution_count": 131,
   "id": "432d5ab4",
   "metadata": {},
   "outputs": [
    {
     "name": "stdout",
     "output_type": "stream",
     "text": [
      "4\n",
      "4\n",
      "4\n",
      "4\n",
      "4\n",
      "None\n"
     ]
    }
   ],
   "source": [
    "def print_same(n):\n",
    "    for _ in range(5):\n",
    "        print(n)\n",
    "\n",
    "n = 4\n",
    "print(print_same(n))"
   ]
  },
  {
   "cell_type": "code",
   "execution_count": 136,
   "id": "f6303ca2",
   "metadata": {},
   "outputs": [
    {
     "name": "stdout",
     "output_type": "stream",
     "text": [
      "GUVI\n",
      "IVUG\n"
     ]
    }
   ],
   "source": [
    "def reverse_string(s):\n",
    "    return s[::-1]\n",
    "\n",
    "s = str(input())\n",
    "print(reverse_string(s))"
   ]
  },
  {
   "cell_type": "code",
   "execution_count": 148,
   "id": "3f5fbf70",
   "metadata": {},
   "outputs": [
    {
     "name": "stdout",
     "output_type": "stream",
     "text": [
      "1 2 3 4 5\n"
     ]
    }
   ],
   "source": [
    "def space_digit(n):\n",
    "    digit = str(n)\n",
    "    return (' '.join(digit))\n",
    "\n",
    "n = 12345\n",
    "print(space_digit(n))"
   ]
  },
  {
   "cell_type": "code",
   "execution_count": 176,
   "id": "49419593",
   "metadata": {},
   "outputs": [
    {
     "name": "stdout",
     "output_type": "stream",
     "text": [
      "3 2 1 56 10000 167\n",
      "1 10000\n"
     ]
    }
   ],
   "source": [
    "def get_min_max(arr):\n",
    "    arr.sort()\n",
    "    return arr[0], arr[-1]\n",
    "    \n",
    "arr = list(map(int, input().split()))\n",
    "\n",
    "min_num, max_num = get_min_max(arr)\n",
    "print(min_num, max_num)"
   ]
  },
  {
   "cell_type": "code",
   "execution_count": null,
   "id": "931675a8",
   "metadata": {},
   "outputs": [],
   "source": [
    "3 2 1 56 10000 167"
   ]
  },
  {
   "cell_type": "code",
   "execution_count": 7,
   "id": "23e708c6",
   "metadata": {},
   "outputs": [
    {
     "name": "stdout",
     "output_type": "stream",
     "text": [
      "1 19\n"
     ]
    }
   ],
   "source": [
    "def min_max_element(arr):\n",
    "\n",
    "    min_num = float('inf')\n",
    "    max_num = float('-inf')\n",
    "\n",
    "    for i in arr:\n",
    "        if i < min_num:\n",
    "            min_num = i\n",
    "        if i > max_num:\n",
    "            max_num = i\n",
    "\n",
    "    return min_num, max_num\n",
    "    \n",
    "arr = [5, 1, 7, 11, 16, 19]\n",
    "# arr = list(map(int, input().split()))\n",
    "min_num, max_num = min_max_element(arr)\n",
    "print(min_num, max_num)"
   ]
  },
  {
   "cell_type": "code",
   "execution_count": null,
   "id": "b61f69c0",
   "metadata": {},
   "outputs": [],
   "source": []
  },
  {
   "cell_type": "code",
   "execution_count": null,
   "id": "6dbf6e2e",
   "metadata": {},
   "outputs": [],
   "source": [
    "Sample Input :\n",
    "5 1 7 11 16 19\n",
    "Sample Output :\n",
    "19 1 16 7 11"
   ]
  },
  {
   "cell_type": "markdown",
   "id": "18f1f00c",
   "metadata": {},
   "source": [
    "# Day-3 10 Coding\n"
   ]
  },
  {
   "cell_type": "code",
   "execution_count": 31,
   "id": "c734929a",
   "metadata": {},
   "outputs": [
    {
     "name": "stdout",
     "output_type": "stream",
     "text": [
      "4\n"
     ]
    }
   ],
   "source": [
    "def missing_value(nums):\n",
    "\n",
    "    n = len(nums)\n",
    "    total_sum = n * (n + 1) // 2\n",
    "    actual_sum = sum(nums)\n",
    "    return total_sum - actual_sum\n",
    "\n",
    "nums = [0, 1, 2, 3, 5, 6, 7]\n",
    "print(missing_value(nums))"
   ]
  },
  {
   "cell_type": "code",
   "execution_count": 44,
   "id": "8230ee3a",
   "metadata": {},
   "outputs": [
    {
     "name": "stdout",
     "output_type": "stream",
     "text": [
      "[2, 3]\n"
     ]
    }
   ],
   "source": [
    "def repeated_values(arr):\n",
    "    count_dict = {}\n",
    "    duplicates = []\n",
    "    \n",
    "    for num in arr:\n",
    "        if num in count_dict:\n",
    "            count_dict[num] += 1\n",
    "        else:\n",
    "            count_dict[num] = 1\n",
    "            \n",
    "    for num, count in count_dict.items():\n",
    "        if count <= 2:\n",
    "            duplicates.append(num)\n",
    "            \n",
    "    duplicates.sort()\n",
    "    \n",
    "    if not duplicates:\n",
    "        return [-1]\n",
    "    \n",
    "    return duplicates\n",
    "\n",
    "arr = [2, 3, 1, 1, 1, 2, 3]\n",
    "print(repeated_values(arr))\n",
    "    "
   ]
  },
  {
   "cell_type": "code",
   "execution_count": 19,
   "id": "64a0cee4",
   "metadata": {},
   "outputs": [
    {
     "name": "stdout",
     "output_type": "stream",
     "text": [
      "4\n",
      "1 1 2 3\n",
      "2 3 1\n"
     ]
    }
   ],
   "source": [
    "def reverse_order(n, nums):\n",
    "    nums = list(set(nums))\n",
    "    return nums[1:] + nums[:-2]\n",
    "\n",
    "n = int(input())\n",
    "nums = list(map(int, input().split()))\n",
    "print(*reverse_order(n, nums))"
   ]
  },
  {
   "cell_type": "code",
   "execution_count": 83,
   "id": "3fb5f8c0",
   "metadata": {},
   "outputs": [
    {
     "name": "stdout",
     "output_type": "stream",
     "text": [
      "3\n",
      "7000\n"
     ]
    }
   ],
   "source": [
    "def savings(n):\n",
    "    if n <= 2:\n",
    "        actual = 2000*n\n",
    "        return actual\n",
    "    else:   \n",
    "        savings = [0] * (n + 1)\n",
    "\n",
    "        savings[0] = 1000\n",
    "        savings[1] = 1000\n",
    "\n",
    "        for i in range(2, n + 1):\n",
    "            savings[i] = savings[i - 1] + savings[i - 2]\n",
    "\n",
    "        total = sum(savings)\n",
    "\n",
    "        return total\n",
    "\n",
    "n = int(input())\n",
    "print(savings(n))"
   ]
  },
  {
   "cell_type": "code",
   "execution_count": 103,
   "id": "79a5e7d5",
   "metadata": {},
   "outputs": [
    {
     "name": "stdout",
     "output_type": "stream",
     "text": [
      "2\n"
     ]
    }
   ],
   "source": [
    "def min_number(num):\n",
    "    \n",
    "    min_element = num[0]\n",
    "    \n",
    "    for i in range(1, n + 1):\n",
    "        if num[i] < min_element:\n",
    "            min_element = num[i]\n",
    "    return min_element\n",
    "            \n",
    "            \n",
    "num =  [3, 4, 9, 2, 6] \n",
    "print(min_number(num))"
   ]
  },
  {
   "cell_type": "markdown",
   "id": "01a801f8",
   "metadata": {},
   "source": [
    "### You are a software engineer at an MNC. You are given the task of sorting the employees in your company based on their salary. Perform the task so that the employees, including yourself, will get a bonus from the management.\n",
    "\n",
    "CONSTRAINT:\n",
    "\n",
    "0<=salary<=1000000\n",
    "\n",
    " \n",
    "\n",
    "Input Description:\n",
    "Number of employees followed by their name and salary\n",
    "\n",
    "Output Description:\n",
    "Sorted list of employee names\n",
    "\n",
    "Sample Input :\n",
    "3\n",
    "Karthik 23000 rohan 81734 varshini 12343\n",
    "\n",
    "Sample Output :\n",
    "\n",
    "varshini\n",
    "Karthik\n",
    "Rohan"
   ]
  },
  {
   "cell_type": "code",
   "execution_count": 189,
   "id": "9206774e",
   "metadata": {},
   "outputs": [
    {
     "name": "stdout",
     "output_type": "stream",
     "text": [
      "3\n",
      "Karthik 23000 rohan 81734 varshini 12343\n",
      "varshini\n",
      "Karthik\n",
      "rohan\n"
     ]
    }
   ],
   "source": [
    "def sorting_employees(n, employee_data):\n",
    "    \n",
    "    employees = []\n",
    "    \n",
    "    for i in range(n):\n",
    "        name = employee_data[i * 2]\n",
    "        salary = int(employee_data[i * 2 + 1])\n",
    "        employees.append((name, salary))\n",
    "    \n",
    "    employees.sort(key=lambda x: x[1])\n",
    "    \n",
    "    for employee in employees:\n",
    "        print(employee[0])\n",
    "    \n",
    "n = int(input())\n",
    "employee_data = input().split()\n",
    "\n",
    "sorting_employees(n, employee_data)"
   ]
  },
  {
   "cell_type": "code",
   "execution_count": 171,
   "id": "9321820a",
   "metadata": {},
   "outputs": [
    {
     "name": "stdout",
     "output_type": "stream",
     "text": [
      "True\n",
      "Flase\n",
      "Flase\n",
      "None\n"
     ]
    }
   ],
   "source": [
    "def duplicates(arr):\n",
    "    \n",
    "    count_dict = {}\n",
    "    \n",
    "    for nums in arr:\n",
    "        if nums in count_dict:\n",
    "            count_dict[nums] += 1\n",
    "        else:\n",
    "            count_dict[nums] = 1\n",
    "            \n",
    "    for nums, count in count_dict.items():\n",
    "        if count > 1:\n",
    "            print(\"True\")\n",
    "        if count <= 1:\n",
    "            print(\"Flase\")\n",
    "\n",
    "\n",
    "arr = [1,2,3,1]\n",
    "print(duplicates(arr))"
   ]
  },
  {
   "cell_type": "code",
   "execution_count": 136,
   "id": "0b5fca02",
   "metadata": {},
   "outputs": [
    {
     "name": "stdout",
     "output_type": "stream",
     "text": [
      "True\n"
     ]
    }
   ],
   "source": [
    "def contain_duplicate(nums):\n",
    "    seen = set()\n",
    "    \n",
    "    for num in nums:\n",
    "        if num in seen:\n",
    "            return True\n",
    "        seen.add(num)\n",
    "    return False\n",
    "\n",
    "nums = [1, 2, 3, 1]\n",
    "\n",
    "print(contain_duplicate(nums))"
   ]
  },
  {
   "cell_type": "markdown",
   "id": "cb3b87a5",
   "metadata": {},
   "source": [
    "### You are given an array of numbers. Print the least occurring element. If there is more than 1 element print all of them in decreasing order of their value.\n",
    "\n",
    "Input Description:\n",
    "You are given a number ‘n’ denoting size of array. Next line contains n space separated numbers.\n",
    "\n",
    "Output Description:\n",
    "Print the number as mentioned\n",
    "\n",
    "Sample Input :\n",
    "9\n",
    "1 6 4 56 56 56 6 4 2\n",
    "Sample Output :\n",
    "2 1"
   ]
  },
  {
   "cell_type": "code",
   "execution_count": 32,
   "id": "f1ec60b1",
   "metadata": {},
   "outputs": [
    {
     "name": "stdout",
     "output_type": "stream",
     "text": [
      "9\n",
      "1 6 4 56 56 56 6 4 2\n",
      "2 1\n"
     ]
    }
   ],
   "source": [
    "def find_least_occuring_elements(n, nums):\n",
    "    \n",
    "    count_dict = {}\n",
    "    \n",
    "    for num in nums:\n",
    "        if num in count_dict:\n",
    "            count_dict[num] += 1\n",
    "        else:\n",
    "            count_dict[num] = 1\n",
    "            \n",
    "    min_values = min(count_dict.values())\n",
    "    \n",
    "    least_occuring = []\n",
    "    \n",
    "    for num, count in count_dict.items():\n",
    "        if count == min_values:\n",
    "            least_occuring.append(num)\n",
    "            \n",
    "    return least_occuring[::-1]\n",
    "\n",
    "n = int(input())\n",
    "nums = list(map(int, input().split()))\n",
    "print(*find_least_occuring_elements(n, nums))"
   ]
  },
  {
   "cell_type": "markdown",
   "id": "06885759",
   "metadata": {},
   "source": [
    "### You are given with an array of numbers, Your task is to print the difference of indices of largest and smallest number.All number are unique.\n",
    "\n",
    "Sample Input :\n",
    "5\n",
    "1 6 4 0 3 \n",
    "\n",
    "Sample Output :\n",
    "-2"
   ]
  },
  {
   "cell_type": "code",
   "execution_count": null,
   "id": "3f815d93",
   "metadata": {},
   "outputs": [],
   "source": []
  },
  {
   "cell_type": "code",
   "execution_count": 65,
   "id": "16233e05",
   "metadata": {},
   "outputs": [
    {
     "name": "stdout",
     "output_type": "stream",
     "text": [
      "2143\n",
      "1 3\n",
      "None\n"
     ]
    }
   ],
   "source": [
    "def odd_numbers(nums):\n",
    "    \n",
    "    odd_digits = []\n",
    "    \n",
    "    for digit in nums:\n",
    "        if int(digit) % 2 != 0:\n",
    "            odd_digits.append(digit)\n",
    "    if odd_digits:\n",
    "        print(\" \".join(odd_digits))\n",
    "    else:\n",
    "        print(\"-1\")\n",
    "\n",
    "nums = input()\n",
    "odd_numbers(nums)"
   ]
  },
  {
   "cell_type": "code",
   "execution_count": 68,
   "id": "34dd9d1b",
   "metadata": {},
   "outputs": [
    {
     "name": "stdout",
     "output_type": "stream",
     "text": [
      "bajaykumar\n",
      "baja**umar\n"
     ]
    }
   ],
   "source": [
    "def modify_middle_to_star(S):\n",
    "    \n",
    "    n = len(S)\n",
    "    if n % 2 == 0:\n",
    "        middle_left = n // 2 - 1\n",
    "        middle_right = n // 2 + 1\n",
    "        modified = S[:middle_left] + '**' + S[middle_right:]\n",
    "    else:\n",
    "        middle = n // 2\n",
    "        modified = S[:middle] + '*' + S[middle+1:]\n",
    "    \n",
    "    return modified\n",
    "\n",
    "S = input()\n",
    "print(modify_middle_to_star(S))"
   ]
  },
  {
   "cell_type": "markdown",
   "id": "f2174bee",
   "metadata": {},
   "source": [
    "# Day-4  10 Coding"
   ]
  },
  {
   "cell_type": "code",
   "execution_count": 79,
   "id": "9166730d",
   "metadata": {},
   "outputs": [
    {
     "data": {
      "text/plain": [
       "[0, 1, 1, 2, 3, 5, 8, 13, 21, 34]"
      ]
     },
     "execution_count": 79,
     "metadata": {},
     "output_type": "execute_result"
    }
   ],
   "source": [
    "def fibonacci(nums):\n",
    "    \n",
    "    fib = [0, 1]\n",
    "    \n",
    "    while len(fib) < nums:\n",
    "        fib.append(fib[-1] + fib[-2])\n",
    "    return fib\n",
    "    \n",
    "nums = 10\n",
    "fibonacci(nums)"
   ]
  },
  {
   "cell_type": "code",
   "execution_count": 2,
   "id": "bef26176",
   "metadata": {},
   "outputs": [
    {
     "name": "stdout",
     "output_type": "stream",
     "text": [
      "3\n",
      "InfinityWar EndGame Avengers\n",
      "Avengers EndGame InfinityWar\n"
     ]
    }
   ],
   "source": [
    "def reverse_string(n, s):\n",
    "    \n",
    "    return s[::-1]\n",
    "  \n",
    "n = int(input()) \n",
    "s = list(map(str, input().split()))\n",
    "print(*reverse_string(n, s))"
   ]
  },
  {
   "cell_type": "code",
   "execution_count": 4,
   "id": "af7870e1",
   "metadata": {},
   "outputs": [
    {
     "name": "stdout",
     "output_type": "stream",
     "text": [
      "hello world\n",
      "hello world\n"
     ]
    }
   ],
   "source": [
    "name = str(input())\n",
    "print(name)"
   ]
  },
  {
   "cell_type": "code",
   "execution_count": 68,
   "id": "79eab645",
   "metadata": {},
   "outputs": [
    {
     "name": "stdout",
     "output_type": "stream",
     "text": [
      "34\n",
      "93\n"
     ]
    }
   ],
   "source": [
    "def second(nums):\n",
    "    nums.sort()\n",
    "    num1 = sum(nums)\n",
    "    return nums, num1\n",
    "\n",
    "nums = [12, 35, 1, 10, 34, 1]\n",
    "nums, num1 = second(nums)\n",
    "print(nums[-2])\n",
    "print(num1)"
   ]
  },
  {
   "cell_type": "code",
   "execution_count": 25,
   "id": "fc08255f",
   "metadata": {},
   "outputs": [
    {
     "name": "stdout",
     "output_type": "stream",
     "text": [
      "4 5 5\n"
     ]
    }
   ],
   "source": [
    "def equilibrium_point(nums):\n",
    "    n = len(nums)\n",
    "    \n",
    "    middle = n // 2\n",
    "    sum1 = sum(nums[:middle])\n",
    "    sum2 = sum(nums[middle+1:])\n",
    "    modified = [sum1] + nums[middle:-middle] + [sum2]\n",
    "    return modified\n",
    "    \n",
    "nums = [1, 3, 5, 2, 3]\n",
    "print(*equilibrium_point(nums))"
   ]
  },
  {
   "cell_type": "code",
   "execution_count": 55,
   "id": "46f56276",
   "metadata": {},
   "outputs": [
    {
     "name": "stdout",
     "output_type": "stream",
     "text": [
      "3\n"
     ]
    }
   ],
   "source": [
    "def sum_integer(nums, k):\n",
    "    \n",
    "    count = 0\n",
    "    for i in range(len(nums)):\n",
    "        for j in range(i, len(nums)):\n",
    "            if nums[i] + nums[j] == k:\n",
    "                count += 1\n",
    "    return count\n",
    "    \n",
    "k = 6\n",
    "nums = [1, 5, 7, 1, 4, 2]\n",
    "print(sum_integer(nums, k))"
   ]
  },
  {
   "cell_type": "code",
   "execution_count": 87,
   "id": "1519bba3",
   "metadata": {},
   "outputs": [
    {
     "name": "stdout",
     "output_type": "stream",
     "text": [
      "[8, 10, 12, 14, 16, 18, 20, 2, 4, 6]\n"
     ]
    }
   ],
   "source": [
    "def rotate_clock(d, nums):\n",
    "    \n",
    "    rotate1 = nums[d:] + nums[:d]\n",
    "    return rotate1\n",
    "\n",
    "d = 3\n",
    "nums = [2,4,6,8,10,12,14,16,18,20]\n",
    "print(rotate_clock(d, nums))"
   ]
  },
  {
   "cell_type": "code",
   "execution_count": 94,
   "id": "66b252ef",
   "metadata": {},
   "outputs": [
    {
     "name": "stdout",
     "output_type": "stream",
     "text": [
      "False\n"
     ]
    }
   ],
   "source": [
    "def key_pairs(x, nums):\n",
    "    \n",
    "    for i in range(len(nums)):\n",
    "        for j in range(i, len(nums)):\n",
    "            if nums[i] + nums[j] == x:\n",
    "                return True\n",
    "    return False\n",
    "\n",
    "\n",
    "    \n",
    "x = 16\n",
    "nums = [1, 2, 4, 3, 6]\n",
    "print(key_pairs(x, nums))"
   ]
  },
  {
   "cell_type": "markdown",
   "id": "2cb9df06",
   "metadata": {},
   "source": [
    "# Day 5 10 coding"
   ]
  },
  {
   "cell_type": "code",
   "execution_count": 69,
   "id": "e6d84cf8",
   "metadata": {},
   "outputs": [
    {
     "name": "stdout",
     "output_type": "stream",
     "text": [
      "3\n",
      "3\n",
      "1 0 2\n",
      "0 8 7\n",
      "0\n"
     ]
    }
   ],
   "source": [
    "def appeared_values(n1, nums1, nums2):\n",
    "    \n",
    "    seen = set()\n",
    "    nums = nums1 + nums2\n",
    "    \n",
    "    for num in nums:\n",
    "        if num in seen:\n",
    "            print(num)\n",
    "        seen.add(num)\n",
    "\n",
    "n1 = list(map(int, input().split()))\n",
    "nums1 = list(map(int, input().split()))\n",
    "nums2 = list(map(int, input().split()))\n",
    "appeared_values(n1, nums1, nums2)"
   ]
  },
  {
   "cell_type": "code",
   "execution_count": 127,
   "id": "2e31ce29",
   "metadata": {},
   "outputs": [
    {
     "data": {
      "text/plain": [
       "[2, 4, 6, 8]"
      ]
     },
     "execution_count": 127,
     "metadata": {},
     "output_type": "execute_result"
    }
   ],
   "source": [
    "def repeated_times(nums):\n",
    "    \n",
    "    repeated = set()\n",
    "    num1 = []\n",
    "    \n",
    "    for num in nums:\n",
    "        if num in repeated:\n",
    "            num1.append(num)\n",
    "        repeated.add(num)\n",
    "        \n",
    "    return num1\n",
    "    \n",
    "\n",
    "nums = [2,4,6,8,10,1, 2, 4,6,8]\n",
    "repeated_times(nums)"
   ]
  },
  {
   "cell_type": "code",
   "execution_count": 114,
   "id": "fe076203",
   "metadata": {},
   "outputs": [
    {
     "name": "stdout",
     "output_type": "stream",
     "text": [
      "8\n"
     ]
    }
   ],
   "source": [
    "def k_largest(nums):\n",
    "    \n",
    "    if nums[-2] < nums[-1]:\n",
    "        print(nums[-2])\n",
    "    else:\n",
    "        print(\"-1\")\n",
    "            \n",
    "nums = [1,2,3,4,5,6,7,8,9]\n",
    "k_largest(nums)"
   ]
  },
  {
   "cell_type": "code",
   "execution_count": 6,
   "id": "a8fb252d",
   "metadata": {},
   "outputs": [
    {
     "name": "stdout",
     "output_type": "stream",
     "text": [
      "[5]\n"
     ]
    }
   ],
   "source": [
    "def middle_values(nums):\n",
    "    \n",
    "    n = len(nums)\n",
    "    middle = n // 2\n",
    "    check_middle = nums[middle:middle+1]\n",
    "    return check_middle\n",
    "    \n",
    "nums = [1,2,3,4,5,7,8,9]\n",
    "print(middle_values(nums))"
   ]
  },
  {
   "cell_type": "code",
   "execution_count": 18,
   "id": "e1a5a888",
   "metadata": {},
   "outputs": [
    {
     "name": "stdout",
     "output_type": "stream",
     "text": [
      "[2, 3, 5, 10, 15, 20, 40]\n"
     ]
    }
   ],
   "source": [
    "def merge_list(list1, list2):\n",
    "    \n",
    "    lists = list1 + list2\n",
    "    lists.sort()\n",
    "    return lists\n",
    "    \n",
    "list1 = [5,10,15,40]\n",
    "list2 = [2,3,20]\n",
    "print(merge_list(list1, list2))"
   ]
  },
  {
   "cell_type": "code",
   "execution_count": 40,
   "id": "4dc861cf",
   "metadata": {},
   "outputs": [
    {
     "name": "stdout",
     "output_type": "stream",
     "text": [
      "3\n"
     ]
    }
   ],
   "source": [
    "def sum_is_equal(x, head1, head2):\n",
    "    \n",
    "    count = 0\n",
    "\n",
    "    for i in range(len(head1)):\n",
    "        for j in range(len(head2)):\n",
    "            if head1[i] + head2[j] == x:\n",
    "                count += 1\n",
    "    return count\n",
    "\n",
    "x = 15\n",
    "head1 = [1,2,3,4,5,6]\n",
    "head2 = [11,12,13]\n",
    "print(sum_is_equal(x, head1, head2))"
   ]
  },
  {
   "cell_type": "code",
   "execution_count": 65,
   "id": "44c9d101",
   "metadata": {},
   "outputs": [
    {
     "data": {
      "text/plain": [
       "[8, 2, 4, 6, 17, 15, 9]"
      ]
     },
     "execution_count": 65,
     "metadata": {},
     "output_type": "execute_result"
    }
   ],
   "source": [
    "def even_odd(nums):\n",
    "    \n",
    "    even = []\n",
    "    odd = []\n",
    "    for i in nums:\n",
    "        if i % 2 == 0:\n",
    "            even.append(i)\n",
    "        if i % 2 != 0:\n",
    "            odd.append(i)            \n",
    "    return even+odd\n",
    "    \n",
    "nums = [17,15,8,9,2,4,6]\n",
    "even_odd(nums)"
   ]
  },
  {
   "cell_type": "code",
   "execution_count": 71,
   "id": "7398e0b4",
   "metadata": {},
   "outputs": [
    {
     "name": "stdout",
     "output_type": "stream",
     "text": [
      "[4, 3, 2, 1]\n"
     ]
    }
   ],
   "source": [
    "def merge_non_incerment(list1, list2):\n",
    "    \n",
    "    lists = list1 + list2\n",
    "    lists.sort()\n",
    "    return lists[::-1]\n",
    "    \n",
    "list1 = [1, 3]\n",
    "list2 = [2, 4]\n",
    "print(merge_non_incerment(list1, list2))"
   ]
  },
  {
   "cell_type": "code",
   "execution_count": 82,
   "id": "8691f2ba",
   "metadata": {},
   "outputs": [
    {
     "name": "stdout",
     "output_type": "stream",
     "text": [
      "2\n"
     ]
    }
   ],
   "source": [
    "def distinct_triplets(X, nums):\n",
    "    \n",
    "    count = 0\n",
    "    n = len(nums)\n",
    "    \n",
    "    for i in range(n):\n",
    "        for j in range(i + 1, n):\n",
    "            for k in range(j + 1, n):\n",
    "                if nums[i]+nums[j]+nums[k] == X:\n",
    "                    count += 1\n",
    "    return count\n",
    "    \n",
    "X = 17\n",
    "nums = [9,8,6,5,4,2,1]\n",
    "print(distinct_triplets(X, nums))"
   ]
  },
  {
   "cell_type": "code",
   "execution_count": 106,
   "id": "5d2b9634",
   "metadata": {},
   "outputs": [
    {
     "name": "stdout",
     "output_type": "stream",
     "text": [
      "[2, 10, 8, 9, 3, 5, 7, 1, 2, 5]\n"
     ]
    }
   ],
   "source": [
    "def reverse_between(a, b, nums):\n",
    "    \n",
    "    post1 = a\n",
    "    post2 = b\n",
    "    list1 = nums[post1-1:post2]\n",
    "    list1 = list1[::-1] \n",
    "    list2 = nums[post2:]\n",
    "    return  list1 + list2 \n",
    "    \n",
    "a = 1\n",
    "b = 8\n",
    "nums = [1,7,5,3,9,8,10,2, 2,5]\n",
    "print(reverse_between(a, b, nums))"
   ]
  },
  {
   "cell_type": "code",
   "execution_count": 28,
   "id": "1e237e95",
   "metadata": {},
   "outputs": [
    {
     "name": "stdout",
     "output_type": "stream",
     "text": [
      "[1, 4, 3, 2, 5, 6]\n"
     ]
    }
   ],
   "source": [
    "def reverse_between(a, b, nums):\n",
    "    \n",
    "    post1 = a\n",
    "    post2 = b\n",
    "    \n",
    "    list1 = nums[:a-1]\n",
    "    \n",
    "    list2 = nums[post1-1:post2]\n",
    "    list2 = list2[::-1] \n",
    "    \n",
    "    list3 = nums[post2:]\n",
    "    \n",
    "    return  list1 + list2 + list3\n",
    "    \n",
    "a = 2\n",
    "b = 4\n",
    "nums = [1,2,3,4,5,6]\n",
    "print(reverse_between(a, b, nums))"
   ]
  },
  {
   "cell_type": "markdown",
   "id": "240de7b2",
   "metadata": {},
   "source": [
    "# Day 6 coding"
   ]
  },
  {
   "cell_type": "code",
   "execution_count": 29,
   "id": "3b88c7d6",
   "metadata": {},
   "outputs": [
    {
     "name": "stdout",
     "output_type": "stream",
     "text": [
      "3 2\n"
     ]
    }
   ],
   "source": [
    "def missing_repeating(arr):\n",
    "\n",
    "    seen = set()\n",
    "    repeated = []\n",
    "    list1 = []\n",
    "\n",
    "    for num in arr:\n",
    "        if num in seen:\n",
    "            repeated.append(num)\n",
    "        if num not in seen:\n",
    "            list1.append(num)\n",
    "        seen.add(num)\n",
    "    \n",
    "    n = len(list1)+1\n",
    "    total = n * (n + 1) // 2\n",
    "    actual = sum(list1)\n",
    "    missing_value = total - actual\n",
    "    \n",
    "    return repeated + [missing_value]\n",
    "       \n",
    "arr = [1, 3, 3]\n",
    "print(*missing_repeating(arr))"
   ]
  },
  {
   "cell_type": "code",
   "execution_count": 131,
   "id": "4f0d64ec",
   "metadata": {},
   "outputs": [
    {
     "name": "stdout",
     "output_type": "stream",
     "text": [
      "120\n"
     ]
    }
   ],
   "source": [
    "def maximum_product(nums):\n",
    "    \n",
    "    count_dict = []\n",
    "    count = 0\n",
    "    n = len(nums)\n",
    "    \n",
    "    for i in range(len(nums)):\n",
    "        for j in range(i+1, len(nums)):\n",
    "            for k in range(j+1, len(nums)):\n",
    "                for l in range(k+1, len(nums)):\n",
    "                    \n",
    "                    if n <= 5 : \n",
    "                        if nums[i] * nums[j]:\n",
    "                            count_dict.append(nums[i] * nums[j])\n",
    "\n",
    "                        if nums[i] * nums[j] * nums[k]:\n",
    "                            count_dict.append(nums[i] * nums[j] * nums[k])\n",
    "\n",
    "                            count += 1\n",
    "                    if n >= 6:\n",
    "                        if nums[i] * nums[j]:\n",
    "                            count_dict.append(nums[i] * nums[j])\n",
    "\n",
    "                        if nums[i] * nums[j] * nums[k]:\n",
    "                            count_dict.append(nums[i] * nums[j] * nums[k])\n",
    "                            \n",
    "                        if nums[i] * nums[j] * nums[k] * nums[l]:\n",
    "                            count_dict.append(nums[i] * nums[j] * nums[k] * nums[l])\n",
    "\n",
    "                            count += 1\n",
    "                        \n",
    "                    \n",
    "    max_value = max(count_dict)\n",
    "    return max_value\n",
    "    \n",
    "nums = [2, 3, 4, 5, -1, 0]\n",
    "print(maximum_product(nums))"
   ]
  },
  {
   "cell_type": "code",
   "execution_count": 153,
   "id": "b0e8d9c6",
   "metadata": {},
   "outputs": [
    {
     "name": "stdout",
     "output_type": "stream",
     "text": [
      "6\n"
     ]
    }
   ],
   "source": [
    "def positive_missing(nums):\n",
    "    \n",
    "    n = len(nums)+1\n",
    "    total = n * (n + 1) // 2\n",
    "    actual = sum(nums)\n",
    "    list1 = total - actual\n",
    "    return list1\n",
    "\n",
    "nums = [1,2,3,4,5]\n",
    "print(positive_missing(nums))"
   ]
  },
  {
   "cell_type": "code",
   "execution_count": 176,
   "id": "39a7be5a",
   "metadata": {},
   "outputs": [
    {
     "name": "stdout",
     "output_type": "stream",
     "text": [
      "2\n"
     ]
    }
   ],
   "source": [
    "def triplet_array(X, nums):\n",
    "    \n",
    "    count = 0\n",
    "    \n",
    "    for i in range(len(nums)):\n",
    "        for j in range(i+1, len(nums)):\n",
    "            for k in range(j+1, len(nums)):\n",
    "                if nums[i] + nums[j] + nums[k] == X:\n",
    "                    count += 1         \n",
    "    return count\n",
    "    \n",
    "X = 13    \n",
    "nums = [1,2,4,3,6,7]\n",
    "print(triplet_array(X, nums))"
   ]
  },
  {
   "cell_type": "code",
   "execution_count": 40,
   "id": "f4f534a7",
   "metadata": {},
   "outputs": [
    {
     "name": "stdout",
     "output_type": "stream",
     "text": [
      "Buy on day 0 and sell on day 3\n",
      "Buy on day 1 and sell on day 3\n",
      "Buy on day 2 and sell on day 3\n",
      "Buy on day 4 and sell on day 6\n",
      "Buy on day 5 and sell on day 6\n"
     ]
    }
   ],
   "source": [
    "def buy_sell(prices):\n",
    "    n = len(prices)\n",
    "    buy_sell_pairs = []\n",
    "    \n",
    "    for i in range(n - 1):\n",
    "        # Find a local minima\n",
    "        if prices[i] < prices[i + 1]:\n",
    "            buy = i\n",
    "            # Find a local maxima\n",
    "            for j in range(i + 1, n):\n",
    "                if j == n - 1 or prices[j] > prices[j + 1]:\n",
    "                    sell = j\n",
    "                    buy_sell_pairs.append((buy, sell))\n",
    "                    break\n",
    "    \n",
    "    return buy_sell_pairs\n",
    "\n",
    "nums = [100, 180, 260, 310, 40, 535, 695]\n",
    "pairs = buy_sell(nums)\n",
    "\n",
    "# Display results\n",
    "if pairs:\n",
    "    for buy, sell in pairs:\n",
    "        print(f\"Buy on day {buy} and sell on day {sell}\")\n",
    "else:\n",
    "    print(-1)"
   ]
  },
  {
   "cell_type": "code",
   "execution_count": 80,
   "id": "311b523e",
   "metadata": {},
   "outputs": [
    {
     "name": "stdout",
     "output_type": "stream",
     "text": [
      "8\n"
     ]
    }
   ],
   "source": [
    "def maximum_sum(nums):\n",
    "    \n",
    "    nums.sort()\n",
    "    count = 0\n",
    "    \n",
    "    for i in range(len(nums)):\n",
    "        count += nums[i] * i\n",
    "        \n",
    "    return count\n",
    "    \n",
    "nums = [5, 3, 2, 4, 1]\n",
    "print(maximum_sum(nums))"
   ]
  },
  {
   "cell_type": "code",
   "execution_count": 92,
   "id": "cc9514c8",
   "metadata": {},
   "outputs": [
    {
     "name": "stdout",
     "output_type": "stream",
     "text": [
      "[3, 5, 4, 0, 0]\n"
     ]
    }
   ],
   "source": [
    "def non_zero(nums):\n",
    "    \n",
    "    zeros = []\n",
    "    Non_zeros = []\n",
    "    \n",
    "    for i in nums:\n",
    "        if i == 0:\n",
    "            zeros.append(i)\n",
    "        if i != 0:\n",
    "            Non_zeros.append(i)\n",
    "    return Non_zeros + zeros\n",
    "    \n",
    "nums = [3, 5, 0, 0, 4]\n",
    "print(non_zero(nums))"
   ]
  },
  {
   "cell_type": "code",
   "execution_count": 103,
   "id": "a9fbe042",
   "metadata": {},
   "outputs": [
    {
     "name": "stdout",
     "output_type": "stream",
     "text": [
      "5\n"
     ]
    }
   ],
   "source": [
    "def median_values(nums1, nums2):\n",
    "    \n",
    "    nums = nums1 + nums2\n",
    "    nums.sort()\n",
    "    n = len(nums)\n",
    "    median = n // 2\n",
    "    return nums[median]\n",
    "    \n",
    "nums1 = [1,5,9]\n",
    "nums2 = [2,3,6,7]\n",
    "print(median_values(nums1, nums2))"
   ]
  },
  {
   "cell_type": "code",
   "execution_count": 120,
   "id": "81b96aaf",
   "metadata": {},
   "outputs": [
    {
     "name": "stdout",
     "output_type": "stream",
     "text": [
      "82\n"
     ]
    }
   ],
   "source": [
    "def combine_elements(nums):\n",
    "    \n",
    "    nums.sort()\n",
    "    \n",
    "    values1 = []\n",
    "    values2 = []\n",
    "    \n",
    "    for i in range(len(nums)):\n",
    "        if i % 2 == 0:\n",
    "            values1.append(str(nums[i]))\n",
    "        else:\n",
    "            values2.append(str(nums[i]))\n",
    "            \n",
    "    val1 = int(''.join(values1))\n",
    "    val2 = int(''.join(values2))\n",
    "        \n",
    "    return val1+val2\n",
    "    \n",
    "nums = [6, 8, 4, 5, 2, 3]\n",
    "print(combine_elements(nums))"
   ]
  },
  {
   "cell_type": "code",
   "execution_count": 165,
   "id": "7ea9cd4f",
   "metadata": {},
   "outputs": [
    {
     "ename": "IndexError",
     "evalue": "list index out of range",
     "output_type": "error",
     "traceback": [
      "\u001b[1;31m---------------------------------------------------------------------------\u001b[0m",
      "\u001b[1;31mIndexError\u001b[0m                                Traceback (most recent call last)",
      "Cell \u001b[1;32mIn[165], line 20\u001b[0m\n\u001b[0;32m     16\u001b[0m     \u001b[38;5;28;01mreturn\u001b[39;00m list1, sequence\n\u001b[0;32m     19\u001b[0m nums \u001b[38;5;241m=\u001b[39m [\u001b[38;5;241m1\u001b[39m,\u001b[38;5;241m2\u001b[39m,\u001b[38;5;241m1\u001b[39m,\u001b[38;5;241m1\u001b[39m,\u001b[38;5;241m3\u001b[39m]\n\u001b[1;32m---> 20\u001b[0m \u001b[38;5;28mprint\u001b[39m(\u001b[43msub_sequence\u001b[49m\u001b[43m(\u001b[49m\u001b[43mnums\u001b[49m\u001b[43m)\u001b[49m)\n",
      "Cell \u001b[1;32mIn[165], line 13\u001b[0m, in \u001b[0;36msub_sequence\u001b[1;34m(nums)\u001b[0m\n\u001b[0;32m     10\u001b[0m     seen\u001b[38;5;241m.\u001b[39madd(num)\n\u001b[0;32m     12\u001b[0m \u001b[38;5;28;01mfor\u001b[39;00m i \u001b[38;5;129;01min\u001b[39;00m list1:\n\u001b[1;32m---> 13\u001b[0m     sequence \u001b[38;5;241m=\u001b[39m \u001b[43mlist1\u001b[49m\u001b[43m[\u001b[49m\u001b[43mi\u001b[49m\u001b[43m]\u001b[49m\n\u001b[0;32m     16\u001b[0m \u001b[38;5;28;01mreturn\u001b[39;00m list1, sequence\n",
      "\u001b[1;31mIndexError\u001b[0m: list index out of range"
     ]
    }
   ],
   "source": [
    "def sub_sequence(nums):\n",
    "    \n",
    "    seen = set()\n",
    "    list1 = []\n",
    "    sequence = 0\n",
    "    \n",
    "    for num in nums:\n",
    "        if num not in seen:\n",
    "            list1.append(num)\n",
    "        seen.add(num)\n",
    "        \n",
    "    for i in list1:\n",
    "        sequence = list1[i]\n",
    "        \n",
    "        \n",
    "    return list1, sequence\n",
    "            \n",
    "\n",
    "nums = [1,2,1,1,3]\n",
    "print(sub_sequence(nums))"
   ]
  },
  {
   "cell_type": "code",
   "execution_count": null,
   "id": "895f6f64",
   "metadata": {},
   "outputs": [],
   "source": []
  },
  {
   "cell_type": "code",
   "execution_count": null,
   "id": "d83e9e72",
   "metadata": {},
   "outputs": [],
   "source": []
  },
  {
   "cell_type": "code",
   "execution_count": null,
   "id": "7acb26d9",
   "metadata": {},
   "outputs": [],
   "source": []
  },
  {
   "cell_type": "code",
   "execution_count": null,
   "id": "5f2ed1fe",
   "metadata": {},
   "outputs": [],
   "source": []
  },
  {
   "cell_type": "code",
   "execution_count": null,
   "id": "81f9cd72",
   "metadata": {},
   "outputs": [],
   "source": []
  },
  {
   "cell_type": "code",
   "execution_count": null,
   "id": "5735832e",
   "metadata": {},
   "outputs": [],
   "source": []
  },
  {
   "cell_type": "code",
   "execution_count": null,
   "id": "bfca9dc6",
   "metadata": {},
   "outputs": [],
   "source": []
  }
 ],
 "metadata": {
  "kernelspec": {
   "display_name": "Python 3 (ipykernel)",
   "language": "python",
   "name": "python3"
  },
  "language_info": {
   "codemirror_mode": {
    "name": "ipython",
    "version": 3
   },
   "file_extension": ".py",
   "mimetype": "text/x-python",
   "name": "python",
   "nbconvert_exporter": "python",
   "pygments_lexer": "ipython3",
   "version": "3.10.9"
  }
 },
 "nbformat": 4,
 "nbformat_minor": 5
}
